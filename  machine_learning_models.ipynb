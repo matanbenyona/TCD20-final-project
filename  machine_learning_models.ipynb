{
 "cells": [
  {
   "cell_type": "markdown",
   "id": "8e57a684-4323-467f-b480-2d5bc8b6a4a4",
   "metadata": {},
   "source": [
    "## inport the data "
   ]
  },
  {
   "cell_type": "code",
   "execution_count": null,
   "id": "881c582a-024b-4d82-ab07-d6c7654c40e7",
   "metadata": {},
   "outputs": [],
   "source": [
    "import os\n",
    "import pandas as pd\n",
    "from sklearn.model_selection import train_test_split\n",
    "\n",
    "\n",
    "Soil_types_directory= 'C:/Users/user/Google Drive/TCD20/python/final_project/Soil_Export'\n",
    "data_image=pd.read_csv(os.path.join(Soil_types_directory,'all_image_64.csv'))\n",
    "data_image_mean=pd.read_csv(os.path.join(Soil_types_directory,'all_image_mean_64.csv'))\n",
    "data_image_select_image=pd.read_csv(os.path.join(Soil_types_directory,'Selecting_image_64.csv'))\n",
    "data_image_cleaning=pd.read_csv(os.path.join(Soil_types_directory,'all_image_cleaning_128.csv'))\n",
    "data_image_cleaning_mean=pd.read_csv(os.path.join(Soil_types_directory,'all_image_cleaning_mean_128.csv'))\n"
   ]
  },
  {
   "cell_type": "markdown",
   "id": "7594b532-bbd2-486f-ab6c-e0bfba3b38e7",
   "metadata": {},
   "source": [
    "##  functions"
   ]
  },
  {
   "cell_type": "code",
   "execution_count": null,
   "id": "378f9b84-aee1-43ef-b611-63a7819f17fa",
   "metadata": {},
   "outputs": [],
   "source": [
    "from sklearn.metrics import accuracy_score\n",
    "from sklearn.metrics import  confusion_matrix,multilabel_confusion_matrix\n",
    "from sklearn.metrics import classification_report,precision_recall_fscore_support\n",
    "from sklearn.pipeline import Pipeline\n",
    "from sklearn.compose import ColumnTransformer\n",
    "from sklearn.model_selection import GridSearchCV\n",
    "from sklearn.preprocessing import OneHotEncoder\n",
    "from sklearn.linear_model import LogisticRegression\n",
    "from sklearn.neighbors import KNeighborsClassifier\n",
    "from sklearn.svm import SVC\n",
    "from sklearn.ensemble import RandomForestClassifier\n",
    "from sklearn.preprocessing import  MinMaxScaler\n",
    "from sklearn.preprocessing import PolynomialFeatures,QuantileTransformer,PowerTransformer\n",
    "from sklearn.preprocessing import StandardScaler,RobustScaler\n",
    "\n",
    "#from sklearn.preprocessing import OneHotEncoder, OrdinalEncoder\n",
    "from sklearn import set_config\n",
    "\n",
    "\n",
    "\n",
    "def def_GridSearchCV(pipeline_object,param_grid,X,Y):\n",
    "    # run GridSearchCV\n",
    "    grid_search = GridSearchCV(pipeline_object,param_grid , scoring='accuracy', cv=5, n_jobs=-1, verbose=2)\n",
    "    grid_search.fit(X,Y) \n",
    "    #cols =['param_'+param for param in list(grid_search.param_grid[0].keys())] +['mean_test_score','std_test_score','rank_test_score']\n",
    "    cv_results_df = pd.DataFrame(grid_search.cv_results_).sort_values(by = 'mean_test_score', ascending=False)#[cols]\n",
    "    filter_col = [col for col in cv_results_df if col.startswith('param')]+['mean_test_score','std_test_score']\n",
    "    cv_results_df= cv_results_df[filter_col]\n",
    "    best_params=grid_search.best_params_\n",
    "    best_score=grid_search.best_score_\n",
    "    param_grid_cv=grid_search.param_grid\n",
    "    return    cv_results_df, param_grid_cv,best_params,best_score, grid_search\n",
    "\n",
    "def  Summary_results_CVׁׂ(cv_results_df):\n",
    "     cv_results_df['str_model']=cv_results_df['param_classifier'].apply(str)\n",
    "     base_pramter=cv_results_df.groupby(by=['str_model']).apply(lambda df: df.query('mean_test_score==mean_test_score.max()'))\n",
    "     filter_col = [col for col in cv_results_df if col.startswith('param')]+['mean_test_score','std_test_score']\n",
    "     base_pramter=  base_pramter[filter_col].reset_index(drop=True).sort_values(by = 'mean_test_score', ascending=False)#\n",
    "     return   base_pramter \n",
    "     \n",
    " \n",
    "\n",
    "def base_model_predict(grid_search,X,Y):\n",
    "    # predict train\n",
    "    predict_train= grid_search.predict(X)\n",
    "    predict_df=Y.copy().assign( predict_class=predict_train )\n",
    "    \n",
    "    \n",
    "    classification_report1=classification_report(predict_df['classes'],\n",
    "                                                      predict_df['predict_class'],\n",
    "                                                      labels=grid_search.classes_,\n",
    "                                                      output_dict=True)\n",
    "  \n",
    "    multi_confusion_matrix1=multilabel_confusion_matrix(predict_df['classes'],\n",
    "                                       predict_df['predict_class'],\n",
    "                                       labels=grid_search.classes_)\n",
    "    \n",
    "      \n",
    "    confusion_matrix1= confusion_matrix(predict_df['classes'],\n",
    "                                       predict_df['predict_class'],\n",
    "                                       labels=grid_search.classes_)\n",
    "    \n",
    "    return  predict_df,classification_report1,  confusion_matrix1,multi_confusion_matrix1\n",
    " \n",
    "    \n",
    "def base_model_summary(grid_search,classification_report,multi_confusion_matrix,confusion_matrix):\n",
    "    \n",
    "    # classification_report to DataFrame\n",
    "    required_fields=['Black Soil', 'Cinder Soil', 'Laterite Soil', 'Peat Soil', 'Yellow Soil','macro avg', 'weighted avg']#, 'weighted avg'\n",
    "    classification_report_dict={k:v['precision'] for k,v in classification_report.items() if k in required_fields}\n",
    "    classification_report_dict.update({'accuracy':classification_report1['accuracy']})\n",
    "    classification_report_df=pd.DataFrame(classification_report_dict,index=['precision']).T\n",
    "    classification_report_df= classification_report_df.sort_values(by = 'precision', ascending=False)#\n",
    "    \n",
    "    # confusion_matrix to  DataFrame\n",
    "    dict_matrix=dict()\n",
    "    classes=grid_search.classes_\n",
    "    for i,l in zip(range(multi_confusion_matrix.shape[0]),classes):\n",
    "        cm=multi_confusion_matrix1[i,:,:]\n",
    "        df_cm = pd.DataFrame(cm,index= ['other',l], columns=['other',l])\n",
    "        #confusion_matrix, index=class_names, columns=class_names,\n",
    "        dict_matrix.update({l:df_cm})\n",
    "\n",
    "    confusion_matrix_df= pd.DataFrame(confusion_matrix,index=classes, columns=classes)\n",
    "    return classification_report_df, dict_matrix, confusion_matrix_df\n",
    "    "
   ]
  },
  {
   "cell_type": "markdown",
   "id": "e2d78fdd-a1b8-4efe-b93f-b933e3c2adae",
   "metadata": {
    "tags": []
   },
   "source": [
    "# Building the model process (Pipeline)\n",
    "##  checking for required preprocesses\n",
    "\n",
    "* PolynomialFeatures 2 3 4\n",
    "* QuantileTransformer\n",
    "* PowerTransformer"
   ]
  },
  {
   "cell_type": "code",
   "execution_count": null,
   "id": "669b40cd-fd60-4204-a19f-4259ffd3dc8a",
   "metadata": {},
   "outputs": [],
   "source": [
    "\n",
    "full_pipeline_SVC = Pipeline(steps=[\n",
    "  \n",
    "   ('preprocessor',None),\n",
    "   ('norm',MinMaxScaler()), \n",
    "   ('classifier', SVC(C=10,gamma=0.0005))\n",
    "   ])\n",
    "\n",
    "full_pipeline_RF = Pipeline(steps=[\n",
    "    \n",
    "   ('preprocessor',None),\n",
    "   ( 'norm',MinMaxScaler()),\n",
    "   ('classifier',RandomForestClassifier(n_estimators=500,max_depth=50,min_samples_split=10))\n",
    "   ])\n",
    "\n",
    "\n",
    "full_pipeline_KNN = Pipeline(steps=[\n",
    "   ('preprocessor',None),\n",
    "   ( 'norm',MinMaxScaler()),\n",
    "   ('classifier',KNeighborsClassifier(n_neighbors=11))\n",
    "   ])\n",
    "\n",
    "\n",
    "full_pipeline_LR=Pipeline(steps=[\n",
    "   ('preprocessor',None),\n",
    "   ( 'norm',MinMaxScaler()),\n",
    "   ('classifier',LogisticRegression(solver='liblinear'))\n",
    "   ])\n",
    "\n",
    "\n",
    "param_grid_processes= [\n",
    "    {},\n",
    "    \n",
    "    {\n",
    "     'preprocessor':[PolynomialFeatures()],   \n",
    "     'preprocessor__degree':[2,3,4] \n",
    "      },\n",
    "    {'preprocessor':[QuantileTransformer()]\n",
    "    },\n",
    "    {'preprocessor':[PowerTransformer()],\n",
    "   'preprocessor__method':['yeo-johnson']   \n",
    "}]\n",
    "    \n",
    "  "
   ]
  },
  {
   "cell_type": "markdown",
   "id": "eb57240d-5a0c-4fba-8f1f-73e698dabc87",
   "metadata": {
    "tags": []
   },
   "source": [
    "## checking for  best models and parameters\n",
    "* LogisticRegression\n",
    "* KNeighbors\n",
    "* SVC\n",
    "* RandomForest\n"
   ]
  },
  {
   "cell_type": "code",
   "execution_count": null,
   "id": "18fa9d5b-6328-4b78-94e3-f1f08e39550e",
   "metadata": {},
   "outputs": [],
   "source": [
    "pipeline = Pipeline(steps=[\n",
    "    ('norm',MinMaxScaler()),\n",
    "    ('preprocessor',None),\n",
    "    ('classifier', None)\n",
    "])\n",
    "\n",
    "\n",
    "param_grid= [\n",
    "    {\n",
    "   \n",
    "     'classifier': [ LogisticRegression(solver='liblinear')],\n",
    "     'classifier__penalty': ['l1', 'l2'],\n",
    "     'classifier__C': [0.1,0.5,1,5,10],\n",
    "     'preprocessor':[PolynomialFeatures(degree=4)]  \n",
    "     },\n",
    "   {  \n",
    "        'classifier': [KNeighborsClassifier()],\n",
    "        'classifier__n_neighbors': [2,3,7,11,15,21,31],\n",
    "    },\n",
    "     {\n",
    "       \n",
    "        'classifier': [SVC()],\n",
    "        'classifier__C': [0.1,0.5,1,5,10,20,50],\n",
    "         'classifier__gamma':[0.00001,0.00005,0.0001,0.0005,0.001,0.005,0.01,0.05],\n",
    "         'preprocessor':[PolynomialFeatures(degree=3)]\n",
    "    },\n",
    "    {\n",
    "         \n",
    "        'classifier': [RandomForestClassifier()],\n",
    "        'classifier__n_estimators': [50,100,200,500],\n",
    "         'classifier__max_depth':[ 10, 50, 100,200,300],\n",
    "         'classifier__min_samples_split':[2,5,10,15] ,\n",
    "    },\n",
    "]\n",
    "\n",
    "\n"
   ]
  },
  {
   "cell_type": "markdown",
   "id": "0ca1fac9-5938-4942-bd75-ad5cfab4747e",
   "metadata": {},
   "source": []
  },
  {
   "cell_type": "code",
   "execution_count": null,
   "id": "ccd44753-dc75-4963-a3c7-b1acbbc8d86c",
   "metadata": {},
   "outputs": [],
   "source": []
  },
  {
   "cell_type": "markdown",
   "id": "785dec7e-e51a-4196-8f5b-4f9c1518caec",
   "metadata": {},
   "source": [
    "#  data image all pixel"
   ]
  },
  {
   "cell_type": "markdown",
   "id": "e7ffa358-dad3-4a79-b123-9f6ca25c5ecb",
   "metadata": {
    "tags": []
   },
   "source": [
    "###  train test split data"
   ]
  },
  {
   "cell_type": "code",
   "execution_count": null,
   "id": "840d56c0-f47c-4084-a229-cbcd798e6262",
   "metadata": {},
   "outputs": [],
   "source": [
    "Soil_Export= 'C:/Users/user/Google Drive/TCD20/python/final_project/csv' \n",
    "data_image2=data_image.groupby(by=['classes']).sample(frac=0.01, random_state=42)\n",
    "print(data_image2.shape)\n",
    "\n",
    "x_data=data_image2[['r','g','b']]\n",
    "y_data=data_image2[['classes']]\n",
    "X_train, X_test, y_train, y_test = train_test_split(x_data, y_data, test_size=0.3, random_state=42)\n"
   ]
  },
  {
   "cell_type": "markdown",
   "id": "2ebf572d-aa9c-49cf-9d38-e9908a6b8344",
   "metadata": {},
   "source": [
    "### required  preprocesses\n"
   ]
  },
  {
   "cell_type": "code",
   "execution_count": null,
   "id": "6273cddc-d3bb-4a4a-b47b-1b5fa5a025da",
   "metadata": {},
   "outputs": [],
   "source": [
    "# SVC\n",
    "print('################## SVC  ################')\n",
    "cv_results_df, param_grid_cv,best_params,best_score, grid_search=def_GridSearchCV(full_pipeline_SVC ,param_grid_processes,X_train,y_train)\n",
    "print(best_params,best_score)\n",
    "\n",
    "     \n",
    "cv_results_df.to_csv(os.path.join(Soil_Export,'necessary processes_svs.csv'))\n",
    "cv_results_df"
   ]
  },
  {
   "cell_type": "code",
   "execution_count": null,
   "id": "09555c18-a14a-4bfe-8abb-fd8404fc4196",
   "metadata": {},
   "outputs": [],
   "source": [
    "#RF\n",
    "print('################## RF  ################')\n",
    "cv_results_df, param_grid_cv,best_params,best_score, grid_search=def_GridSearchCV(full_pipeline_RF ,param_grid_processes,X_train,y_train)\n",
    "print(best_params,best_score)\n",
    "\n",
    "cv_results_df.to_csv(os.path.join(Soil_Export,'necessary processes_RF.csv'))\n",
    "cv_results_df"
   ]
  },
  {
   "cell_type": "code",
   "execution_count": null,
   "id": "643d8896-5908-4b5d-9b0c-a98105ad71f5",
   "metadata": {},
   "outputs": [],
   "source": [
    "# KNN\n",
    "print('################## KNN  ################')  \n",
    "\n",
    "cv_results_df, param_grid_cv,best_params,best_score, grid_search=def_GridSearchCV(full_pipeline_KNN ,param_grid_processes,X_train,y_train)\n",
    "print(best_params,best_score)\n",
    "\n",
    "cv_results_df.to_csv(os.path.join(Soil_Export,'necessary processes_knn.csv'))\n",
    "cv_results_df"
   ]
  },
  {
   "cell_type": "code",
   "execution_count": null,
   "id": "3e03d2bc-05be-4d24-bb87-8d3fb26e7c92",
   "metadata": {},
   "outputs": [],
   "source": [
    "print('##### LR ####')\n",
    "cv_results_df, param_grid_cv,best_params,best_score, grid_search=def_GridSearchCV(full_pipeline_LR ,param_grid_processes,X_train,y_train)\n",
    "print(best_params,best_score)\n",
    "\n",
    "cv_results_df.to_csv(os.path.join(Soil_Export,'necessary processes_LR.csv'))\n",
    "cv_results_df\n",
    "\n",
    "\n"
   ]
  },
  {
   "cell_type": "markdown",
   "id": "042cd06d-9f29-4ce1-9d35-f71c7a8b2598",
   "metadata": {},
   "source": [
    "### best models and parameters "
   ]
  },
  {
   "cell_type": "code",
   "execution_count": null,
   "id": "0e2f824c-cd1b-4342-a4d9-bb4991f174e3",
   "metadata": {},
   "outputs": [],
   "source": [
    "cv_results_df, param_grid_cv,best_params,best_score, grid_search=def_GridSearchCV(pipeline ,param_grid,X_train,y_train)\n",
    "print(best_params,best_score)\n",
    "base_pramter_per_model=Summary_results_CVׁׂ(cv_results_df)\n",
    "base_pramter_per_model.to_csv(os.path.join(Soil_Export,'ml_all_image2.csv'))\n",
    "cv_results_df\n",
    "cv_results_df.to_csv(os.path.join(Soil_Export,'ml_all_image.csv'))\n",
    "cv_results_df\n"
   ]
  },
  {
   "cell_type": "markdown",
   "id": "2d092994-3ef3-4a9a-a7c6-fbcee614340c",
   "metadata": {},
   "source": [
    "## predict base  model "
   ]
  },
  {
   "cell_type": "code",
   "execution_count": null,
   "id": "b6134258-cdc9-49a4-b445-071ff600b619",
   "metadata": {},
   "outputs": [],
   "source": [
    "predict_df,classification_report1,confusion_matrix1,multi_confusion_matrix1=base_model_predict(grid_search,X_test, y_test)\n",
    "classification_report_df, dict_matrix, confusion_matrix_df= base_model_summary(grid_search,classification_report1,multi_confusion_matrix1,confusion_matrix1)\n",
    "classification_report_df.to_csv(os.path.join(Soil_Export,'ml_all_image_predict.csv'))\n",
    "#classification_report_df\n",
    "print('### Yellow Soil ###')\n",
    "print(dict_matrix['Yellow Soil'])\n",
    "print('### Laterite Soil\t ###')\n",
    "print(dict_matrix['Laterite Soil'])\n",
    "print('### Black Soil ###')\n",
    "print(dict_matrix['Black Soil'])\n",
    "print('### Cinder Soill\t ###')\n",
    "print(dict_matrix['Cinder Soil'])\n",
    "print('### Peat Soil\t ###')\n",
    "print(dict_matrix['Peat Soil'])\n",
    "\n",
    "\n",
    "print(confusion_matrix_df)\n",
    "classification_report_df\n"
   ]
  },
  {
   "cell_type": "code",
   "execution_count": null,
   "id": "8ed6738a-ae5c-48df-bc25-e888a9ffbf4b",
   "metadata": {},
   "outputs": [],
   "source": []
  },
  {
   "cell_type": "code",
   "execution_count": null,
   "id": "bfa4ed56-57e9-4cb1-98da-72dd212adb87",
   "metadata": {},
   "outputs": [],
   "source": []
  },
  {
   "cell_type": "code",
   "execution_count": null,
   "id": "3a39c155-376b-4e74-83f5-a70ef1a0059f",
   "metadata": {},
   "outputs": [],
   "source": []
  },
  {
   "cell_type": "code",
   "execution_count": null,
   "id": "25c2e5f1-cd10-4516-b369-0852d3c00c03",
   "metadata": {},
   "outputs": [],
   "source": []
  },
  {
   "cell_type": "markdown",
   "id": "83ed075d-81d3-4ae0-b1d7-b0c2d4d6dc55",
   "metadata": {},
   "source": [
    "# data image selecting"
   ]
  },
  {
   "cell_type": "markdown",
   "id": "f3c13641-44e1-46e3-bcf9-83c51f8fb03a",
   "metadata": {},
   "source": [
    "## train test split data"
   ]
  },
  {
   "cell_type": "code",
   "execution_count": null,
   "id": "11130c7f-8e81-4f69-a5a5-bc465c351a6c",
   "metadata": {},
   "outputs": [],
   "source": [
    "data_image_Selecting2=data_image_select_image.groupby(by=['classes']).sample(frac=0.5, random_state=42)\n",
    "print(data_image_Selecting2.shape)\n",
    "x_data=data_image_Selecting2[['r','g','b']]\n",
    "y_data=data_image_Selecting2[['classes']]\n",
    "X_train, X_test, y_train, y_test = train_test_split(x_data, y_data, test_size=0.2, random_state=42)\n"
   ]
  },
  {
   "cell_type": "markdown",
   "id": "cf90b50c-4f29-4a33-a0b7-2d2247c84363",
   "metadata": {},
   "source": [
    "### best models and parameters"
   ]
  },
  {
   "cell_type": "code",
   "execution_count": null,
   "id": "0a2f3e2a-ce66-4529-b32b-91de39d01e61",
   "metadata": {},
   "outputs": [],
   "source": [
    "cv_results_df, param_grid_cv,best_params,best_score, grid_search=def_GridSearchCV(pipeline ,param_grid,X_train,y_train)\n",
    "print(best_params,best_score)\n",
    "base_pramter_per_model=Summary_results_CVׁׂ(cv_results_df)\n",
    "base_pramter_per_model\n",
    "cv_results_df.to_csv(os.path.join(Soil_Export,'ml_select_image.csv'))\n",
    "base_pramter_per_model.to_csv(os.path.join(Soil_Export,'ml_select_image2.csv'))\n"
   ]
  },
  {
   "cell_type": "markdown",
   "id": "66c0a5ae-014d-4c2f-820c-4ad7eaff8132",
   "metadata": {},
   "source": [
    "## predict base  model "
   ]
  },
  {
   "cell_type": "code",
   "execution_count": null,
   "id": "1b05b636-59b1-478a-b9a4-a3162a6bfba0",
   "metadata": {},
   "outputs": [],
   "source": [
    "predict_df,classification_report1,confusion_matrix1,multi_confusion_matrix1=base_model_predict(grid_search,X_test, y_test)\n",
    "classification_report_df, dict_matrix, confusion_matrix_df= base_model_summary(grid_search,classification_report1,multi_confusion_matrix1,confusion_matrix1)\n",
    "classification_report_df.to_csv(os.path.join(Soil_Export,'ml_select_image_predict.csv'))\n",
    "\n",
    "#classification_report_df\n",
    "print('### Yellow Soil ###')\n",
    "print(dict_matrix['Yellow Soil'])\n",
    "print('### Laterite Soil\t ###')\n",
    "print(dict_matrix['Laterite Soil'])\n",
    "print('### Black Soil ###')\n",
    "print(dict_matrix['Black Soil'])\n",
    "print('### Cinder Soill\t ###')\n",
    "print(dict_matrix['Cinder Soil'])\n",
    "print('### Peat Soil\t ###')\n",
    "print(dict_matrix['Peat Soil'])\n",
    "\n",
    "\n",
    "print(confusion_matrix_df)\n",
    "classification_report_df\n"
   ]
  },
  {
   "cell_type": "code",
   "execution_count": null,
   "id": "5b836f60-dd59-4ae2-beae-222916009876",
   "metadata": {},
   "outputs": [],
   "source": []
  },
  {
   "cell_type": "code",
   "execution_count": null,
   "id": "1cbf0fe6-1031-4102-bc87-fb55fa7cf2fd",
   "metadata": {},
   "outputs": [],
   "source": []
  },
  {
   "cell_type": "code",
   "execution_count": null,
   "id": "c1220615-d485-465a-920a-d2e6a124432b",
   "metadata": {},
   "outputs": [],
   "source": []
  },
  {
   "cell_type": "markdown",
   "id": "b7109589-c30d-4ef6-86ae-3d5578ac42ec",
   "metadata": {},
   "source": [
    "# data image mean\n",
    " "
   ]
  },
  {
   "cell_type": "markdown",
   "id": "860b18c2-3879-41ff-a121-3cf26df8693b",
   "metadata": {},
   "source": [
    "## train test split data"
   ]
  },
  {
   "cell_type": "code",
   "execution_count": null,
   "id": "2f441176-d18b-45c5-94d0-498e1a9b02bc",
   "metadata": {},
   "outputs": [],
   "source": [
    "x_data=data_image_mean[['r','g','b']]\n",
    "print(x_data.shape)\n",
    "y_data=data_image_mean[['classes']]\n",
    "X_train, X_test, y_train, y_test = train_test_split(x_data, y_data, test_size=0.2, random_state=42)\n",
    "\n"
   ]
  },
  {
   "cell_type": "markdown",
   "id": "7d5c37e3-36f4-468e-a25e-3a81bdd0cb28",
   "metadata": {},
   "source": [
    "## best model and parameters"
   ]
  },
  {
   "cell_type": "code",
   "execution_count": null,
   "id": "06645c01-84c1-4994-9fb7-1622160d5007",
   "metadata": {},
   "outputs": [],
   "source": [
    "cv_results_df, param_grid_cv,best_params,best_score, grid_search=def_GridSearchCV(pipeline ,param_grid,X_train,y_train)\n",
    "print(best_params,best_score)\n",
    "base_pramter_per_model=Summary_results_CVׁׂ(cv_results_df)\n",
    "base_pramter_per_model\n",
    "\n",
    "cv_results_df.to_csv(os.path.join(Soil_Export,'data_image_mean.csv'))\n",
    "base_pramter_per_model.to_csv(os.path.join(Soil_Export,'data_image_mean2.csv'))\n",
    "base_pramter_per_model"
   ]
  },
  {
   "cell_type": "markdown",
   "id": "689dc2e1-6e45-4ed8-9290-bf81825babd4",
   "metadata": {},
   "source": [
    "### base model"
   ]
  },
  {
   "cell_type": "code",
   "execution_count": null,
   "id": "94debec8-ebc6-41e6-bb3f-8c9f7d845ea2",
   "metadata": {},
   "outputs": [],
   "source": [
    "predict_df,classification_report1,confusion_matrix1,multi_confusion_matrix1=base_model_predict(grid_search,X_test, y_test)\n",
    "classification_report_df, dict_matrix, confusion_matrix_df= base_model_summary(grid_search,classification_report1,multi_confusion_matrix1,confusion_matrix1)\n",
    "classification_report_df.to_csv(os.path.join(Soil_Export,'ml_image_mean_predict.csv'))\n",
    "\n",
    "#classification_report_df\n",
    "print('### Yellow Soil ###')\n",
    "print(dict_matrix['Yellow Soil'])\n",
    "print('### Laterite Soil\t ###')\n",
    "print(dict_matrix['Laterite Soil'])\n",
    "print('### Black Soil ###')\n",
    "print(dict_matrix['Black Soil'])\n",
    "print('### Cinder Soill\t ###')\n",
    "print(dict_matrix['Cinder Soil'])\n",
    "print('### Peat Soil\t ###')\n",
    "print(dict_matrix['Peat Soil'])\n",
    "\n",
    "\n",
    "print(confusion_matrix_df)\n",
    "classification_report_df\n",
    "\n"
   ]
  },
  {
   "cell_type": "code",
   "execution_count": null,
   "id": "2d2bd2d5-dcc8-47c7-a685-ed3055a35b6d",
   "metadata": {},
   "outputs": [],
   "source": [
    " "
   ]
  },
  {
   "cell_type": "code",
   "execution_count": null,
   "id": "3d5feb0b-af1c-47ad-b54d-06d5d1107572",
   "metadata": {},
   "outputs": [],
   "source": []
  },
  {
   "cell_type": "markdown",
   "id": "0748f1cf-edcb-4b5d-91b1-f0a664555ed9",
   "metadata": {},
   "source": [
    "# cleaning data"
   ]
  },
  {
   "cell_type": "markdown",
   "id": "59d3f850-a88a-4c7d-9b50-2e98c224addf",
   "metadata": {},
   "source": [
    "## train test split data"
   ]
  },
  {
   "cell_type": "code",
   "execution_count": null,
   "id": "c003918c-592d-4a14-b6f9-6987e66fad79",
   "metadata": {},
   "outputs": [],
   "source": [
    "data_image2=data_image_cleaning.groupby(by=['classes']).sample(frac=0.003, random_state=42)\n",
    "print(data_image2.shape)\n",
    "\n",
    "x_data=data_image2[['r','g','b']]\n",
    "y_data=data_image2[['classes']]\n",
    "X_train, X_test, y_train, y_test = train_test_split(x_data, y_data, test_size=0.2, random_state=42)\n"
   ]
  },
  {
   "cell_type": "markdown",
   "id": "75494b7e-b7e5-4115-b7ba-2db6abac3911",
   "metadata": {},
   "source": [
    "## best model and parameters"
   ]
  },
  {
   "cell_type": "code",
   "execution_count": null,
   "id": "476a5771-46cd-4cac-b999-0b5a22b6bc13",
   "metadata": {},
   "outputs": [],
   "source": [
    "cv_results_df, param_grid_cv,best_params,best_score, grid_search=def_GridSearchCV(pipeline ,param_grid,X_train,y_train)\n",
    "print(best_params,best_score)\n",
    "base_pramter_per_model=Summary_results_CVׁׂ(cv_results_df)\n",
    "base_pramter_per_model\n",
    "\n",
    "cv_results_df.to_csv(os.path.join(Soil_Export,'data_cleaning.csv'))\n",
    "base_pramter_per_model.to_csv(os.path.join(Soil_Export,'data_cleaning2.csv'))\n",
    "base_pramter_per_model"
   ]
  },
  {
   "cell_type": "markdown",
   "id": "4f24ac31-cfd4-4f54-b5ba-ad1fbb419095",
   "metadata": {},
   "source": [
    "## predict  base model"
   ]
  },
  {
   "cell_type": "code",
   "execution_count": null,
   "id": "1401066c-28e1-4b58-af4c-7681048b7efb",
   "metadata": {},
   "outputs": [],
   "source": [
    "#oil_types_directory= 'C:/Users/user/Google Drive/TCD20/python/dataset/Soil types'\n",
    "\n",
    "\n",
    "predict_df,classification_report1,confusion_matrix1,multi_confusion_matrix1=base_model_predict(grid_search,X_test, y_test)\n",
    "classification_report_df, dict_matrix, confusion_matrix_df= base_model_summary(grid_search,classification_report1,multi_confusion_matrix1,confusion_matrix1)\n",
    "classification_report_df.to_csv(os.path.join(Soil_Export,'ml_cleaning_predict.csv'))\n",
    "\n",
    "#classification_report_df\n",
    "print('### Yellow Soil ###')\n",
    "print(dict_matrix['Yellow Soil'])\n",
    "print('### Laterite Soil\t ###')\n",
    "print(dict_matrix['Laterite Soil'])\n",
    "print('### Black Soil ###')\n",
    "print(dict_matrix['Black Soil'])\n",
    "print('### Cinder Soill\t ###')\n",
    "print(dict_matrix['Cinder Soil'])\n",
    "print('### Peat Soil\t ###')\n",
    "print(dict_matrix['Peat Soil'])\n",
    "\n",
    "\n",
    "print(confusion_matrix_df)\n",
    "classification_report_df\n",
    "\n"
   ]
  },
  {
   "cell_type": "markdown",
   "id": "0d69b90f-1443-4c84-81bd-2dca5e373a7c",
   "metadata": {},
   "source": [
    "# cleaning data mean"
   ]
  },
  {
   "cell_type": "markdown",
   "id": "2ce1bdd7-e2d6-4180-8292-7100cb94428e",
   "metadata": {},
   "source": [
    "## train test split data"
   ]
  },
  {
   "cell_type": "code",
   "execution_count": null,
   "id": "c1559209-4dc7-41f4-87c0-80fe0ab64bc5",
   "metadata": {},
   "outputs": [],
   "source": [
    "x_data=data_image_cleaning_mean[['r','g','b']]\n",
    "print(x_data.shape)\n",
    "y_data=data_image_mean[['classes']]\n",
    "X_train, X_test, y_train, y_test = train_test_split(x_data, y_data, test_size=0.2, random_state=42)\n",
    "\n"
   ]
  },
  {
   "cell_type": "markdown",
   "id": "67def81b-fdee-4ee8-8cb9-3164dcb4d3b7",
   "metadata": {},
   "source": [
    "## best models and parameters"
   ]
  },
  {
   "cell_type": "code",
   "execution_count": null,
   "id": "953cabcf-8941-4da8-a5d2-d838c44eb372",
   "metadata": {},
   "outputs": [],
   "source": [
    "cv_results_df, param_grid_cv,best_params,best_score, grid_search=def_GridSearchCV(pipeline ,param_grid,X_train,y_train)\n",
    "print(best_params,best_score)\n",
    "base_pramter_per_model=Summary_results_CVׁׂ(cv_results_df)\n",
    "base_pramter_per_model\n",
    "\n",
    "cv_results_df.to_csv(os.path.join(Soil_Export,'data_cleaning_mean.csv'))\n",
    "base_pramter_per_model.to_csv(os.path.join(Soil_Export,'data_cleaning_mean2.csv'))\n",
    "base_pramter_per_model"
   ]
  },
  {
   "cell_type": "markdown",
   "id": "dc2f9079-4f6c-4aa0-8942-af29af4842ff",
   "metadata": {},
   "source": [
    "## predict  base model"
   ]
  },
  {
   "cell_type": "code",
   "execution_count": null,
   "id": "c0fed87d-05b0-40a7-bf44-120e75679fa7",
   "metadata": {},
   "outputs": [],
   "source": [
    "predict_df,classification_report1,confusion_matrix1,multi_confusion_matrix1=base_model_predict(grid_search,X_test, y_test)\n",
    "classification_report_df, dict_matrix, confusion_matrix_df= base_model_summary(grid_search,classification_report1,multi_confusion_matrix1,confusion_matrix1)\n",
    "classification_report_df.to_csv(os.path.join(Soil_Export,'data_cleaning_mean_predict.csv'))\n",
    "\n",
    "#classification_report_df\n",
    "print('### Yellow Soil ###')\n",
    "print(dict_matrix['Yellow Soil'])\n",
    "print('### Laterite Soil\t ###')\n",
    "print(dict_matrix['Laterite Soil'])\n",
    "print('### Black Soil ###')\n",
    "print(dict_matrix['Black Soil'])\n",
    "print('### Cinder Soill\t ###')\n",
    "print(dict_matrix['Cinder Soil'])\n",
    "print('### Peat Soil\t ###')\n",
    "print(dict_matrix['Peat Soil'])\n",
    "\n",
    "\n",
    "print(confusion_matrix_df)\n",
    "classification_report_df"
   ]
  },
  {
   "cell_type": "code",
   "execution_count": null,
   "id": "e96f15a5-9937-47aa-a523-76ec0a97dad4",
   "metadata": {},
   "outputs": [],
   "source": []
  }
 ],
 "metadata": {
  "kernelspec": {
   "display_name": "Python 3 (ipykernel)",
   "language": "python",
   "name": "python3"
  },
  "language_info": {
   "codemirror_mode": {
    "name": "ipython",
    "version": 3
   },
   "file_extension": ".py",
   "mimetype": "text/x-python",
   "name": "python",
   "nbconvert_exporter": "python",
   "pygments_lexer": "ipython3",
   "version": "3.9.13"
  }
 },
 "nbformat": 4,
 "nbformat_minor": 5
}
