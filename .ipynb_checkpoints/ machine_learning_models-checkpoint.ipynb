{
 "cells": [
  {
   "cell_type": "code",
   "execution_count": null,
   "id": "48522c52-fff6-40dc-9824-3075fb8fcd56",
   "metadata": {},
   "outputs": [],
   "source": []
  },
  {
   "cell_type": "code",
   "execution_count": null,
   "id": "45960c1d-6ddc-4181-8e20-a2e3c6515a29",
   "metadata": {},
   "outputs": [],
   "source": []
  },
  {
   "cell_type": "markdown",
   "id": "8e57a684-4323-467f-b480-2d5bc8b6a4a4",
   "metadata": {},
   "source": [
    "## get the data "
   ]
  },
  {
   "cell_type": "code",
   "execution_count": null,
   "id": "881c582a-024b-4d82-ab07-d6c7654c40e7",
   "metadata": {},
   "outputs": [],
   "source": [
    "import os\n",
    "import pandas as pd\n",
    "from sklearn.model_selection import train_test_split\n",
    "\n",
    "Soil_types_directory= 'C:/Users/user/Google Drive/TCD20/python/dataset/Soil types'\n",
    "data_image=pd.read_csv(os.path.join(Soil_types_directory,'all_image_64.csv'))\n",
    "data_image_mean=pd.read_csv(os.path.join(Soil_types_directory,'all_image_mean.csv'))\n",
    "data_image_Selecting=pd.read_csv(os.path.join(Soil_types_directory,'Selecting_image_64.csv'))"
   ]
  },
  {
   "cell_type": "code",
   "execution_count": 194,
   "id": "378f9b84-aee1-43ef-b611-63a7819f17fa",
   "metadata": {},
   "outputs": [],
   "source": [
    "from sklearn.metrics import accuracy_score\n",
    "from sklearn.metrics import  confusion_matrix,multilabel_confusion_matrix\n",
    "from sklearn.metrics import classification_report,precision_recall_fscore_support\n",
    "\n",
    "def def_GridSearchCV(pipeline_object,param_grid,X,Y):\n",
    "    # run GridSearchCV\n",
    "    grid_search = GridSearchCV(pipeline_object,param_grid , scoring='accuracy', cv=5, n_jobs=-1, verbose=2)\n",
    "    grid_search.fit(X,Y) \n",
    "    #cols =['param_'+param for param in list(grid_search.param_grid[0].keys())] +['mean_test_score','std_test_score','rank_test_score']\n",
    "    cv_results_df = pd.DataFrame(grid_search.cv_results_).sort_values(by = 'mean_test_score', ascending=False)#[cols]\n",
    "    filter_col = [col for col in cv_results_df if col.startswith('param')]+['mean_test_score','std_test_score']\n",
    "    cv_results_df= cv_results_df[filter_col]\n",
    "    best_params=grid_search.best_params_\n",
    "    best_score=grid_search.best_score_\n",
    "    param_grid_cv=grid_search.param_grid\n",
    "    return    cv_results_df, param_grid_cv,best_params,best_score, grid_search\n",
    "\n",
    "def  Summary_results_CVׁׂ(cv_results_df):\n",
    "     cv_results_df['str_model']=cv_results_df['param_classifier'].apply(str)\n",
    "     base_pramter=cv_results_df.groupby(by=['str_model']).apply(lambda df: df.query('mean_test_score==mean_test_score.max()'))\n",
    "     filter_col = [col for col in cv_results_df if col.startswith('param')]+['mean_test_score','std_test_score']\n",
    "     base_pramter=  base_pramter[filter_col].reset_index(drop=True).sort_values(by = 'mean_test_score', ascending=False)#\n",
    "     return   base_pramter \n",
    "     \n",
    " \n",
    "\n",
    "def base_model_predict(grid_search,X,Y):\n",
    "    # predict train\n",
    "    predict_train= grid_search.predict(X)\n",
    "    predict_df=Y.copy().assign( predict_class=predict_train )\n",
    "    \n",
    "    \n",
    "    classification_report1=classification_report(predict_df['classes'],\n",
    "                                                      predict_df['predict_class'],\n",
    "                                                      labels=grid_search.classes_,\n",
    "                                                      output_dict=True)\n",
    "  \n",
    "    multi_confusion_matrix1=multilabel_confusion_matrix(predict_df['classes'],\n",
    "                                       predict_df['predict_class'],\n",
    "                                       labels=grid_search.classes_)\n",
    "    \n",
    "      \n",
    "    confusion_matrix1= confusion_matrix(predict_df['classes'],\n",
    "                                       predict_df['predict_class'],\n",
    "                                       labels=grid_search.classes_)\n",
    "    \n",
    "    return  predict_df,classification_report1,  confusion_matrix1,multi_confusion_matrix1\n",
    " \n",
    "    \n",
    "def base_model_summary(grid_search,classification_report,multi_confusion_matrix,confusion_matrix):\n",
    "    \n",
    "    # classification_report to DataFrame\n",
    "    required_fields=['Black Soil', 'Cinder Soil', 'Laterite Soil', 'Peat Soil', 'Yellow Soil','macro avg', 'weighted avg']#, 'weighted avg'\n",
    "    classification_report_dict={k:v['precision'] for k,v in classification_report.items() if k in required_fields}\n",
    "    classification_report_dict.update({'accuracy':classification_report1['accuracy']})\n",
    "    classification_report_df=pd.DataFrame(classification_report_dict,index=['precision']).T\n",
    "    classification_report_df= classification_report_df.sort_values(by = 'precision', ascending=False)#\n",
    "    \n",
    "    # confusion_matrix to  DataFrame\n",
    "    dict_matrix=dict()\n",
    "    classes=grid_search.classes_\n",
    "    for i,l in zip(range(multi_confusion_matrix.shape[0]),classes):\n",
    "        cm=multi_confusion_matrix1[i,:,:]\n",
    "        df_cm = pd.DataFrame(cm,index= ['other',l], columns=['other',l])\n",
    "        #confusion_matrix, index=class_names, columns=class_names,\n",
    "        dict_matrix.update({l:df_cm})\n",
    "\n",
    "    confusion_matrix_df= pd.DataFrame(confusion_matrix,index=classes, columns=classes)\n",
    "    return classification_report_df, dict_matrix, confusion_matrix_df\n",
    "    "
   ]
  },
  {
   "cell_type": "markdown",
   "id": "eb57240d-5a0c-4fba-8f1f-73e698dabc87",
   "metadata": {},
   "source": [
    "## examine the best model and parameters\n",
    "LogisticRegression,KNeighbors,SVC, RandomForest\n",
    "\n",
    "\n",
    "\n",
    "\n",
    "\n"
   ]
  },
  {
   "cell_type": "markdown",
   "id": "1e5f8597-9ec3-45c4-bc68-80eca19570fb",
   "metadata": {},
   "source": [
    "## param_grid"
   ]
  },
  {
   "cell_type": "code",
   "execution_count": 173,
   "id": "18fa9d5b-6328-4b78-94e3-f1f08e39550e",
   "metadata": {},
   "outputs": [],
   "source": [
    "from sklearn.pipeline import Pipeline\n",
    "from sklearn.model_selection import GridSearchCV\n",
    "from sklearn.linear_model import LogisticRegression\n",
    "from sklearn.neighbors import KNeighborsClassifier\n",
    "from sklearn.svm import SVC\n",
    "from sklearn.ensemble import RandomForestClassifier\n",
    "\n",
    "\n",
    "#from sklearn.metrics import accuracy_score\n",
    "#from sklearn.metrics import  confusion_matrix,multilabel_confusion_matrix\n",
    "#from sklearn.metrics import classification_report,precision_recall_fscore_support\n",
    "\n",
    "full_pipeline = Pipeline(steps=[\n",
    "   ('preprocessor',None),\n",
    "    ('classifier', None)\n",
    "])\n",
    "\n",
    "param_grid= [\n",
    "    {\n",
    "   \n",
    "     'classifier': [ LogisticRegression(solver='liblinear')],\n",
    "     'classifier__penalty': ['l1', 'l2'],\n",
    "     'classifier__C': [0.1,0.5,1,5,10],\n",
    "     },\n",
    "   {  \n",
    "        'classifier': [KNeighborsClassifier()],\n",
    "        'classifier__n_neighbors': [2,3,7,11,15,21,31],\n",
    "    },\n",
    "     {\n",
    "       \n",
    "        'classifier': [SVC()],\n",
    "        'classifier__C': [0.1,0.5,1,5,10,20,50],\n",
    "         'classifier__gamma':[0.00001,0.00005,0.0001,0.0005,0.001,0.005,0.01,0.05]\n",
    "    },\n",
    "    {\n",
    "         \n",
    "        'classifier': [RandomForestClassifier()],\n",
    "        'classifier__n_estimators': [50,100,200,500],\n",
    "         'classifier__max_depth':[1, 10, 50, 100],\n",
    "         'classifier__min_samples_split':[2,5,10,15]\n",
    "    }\n",
    "]"
   ]
  },
  {
   "cell_type": "code",
   "execution_count": 174,
   "id": "669b40cd-fd60-4204-a19f-4259ffd3dc8a",
   "metadata": {},
   "outputs": [],
   "source": [
    "from sklearn.pipeline import Pipeline\n",
    "from sklearn.preprocessing import PolynomialFeatures,QuantileTransformer,PowerTransformer\n",
    "from sklearn.preprocessing import  MinMaxScaler,StandardScaler,RobustScaler\n",
    "\n",
    "#from sklearn.preprocessing import OneHotEncoder, OrdinalEncoder\n",
    "from sklearn import set_config\n",
    "\n",
    "\n",
    "full_pipeline1 = Pipeline(steps=[\n",
    "  \n",
    "   ('preprocessor',None),\n",
    "   ('norm',MinMaxScaler()), \n",
    "   ('classifier', SVC(C=10,gamma=0.0005))\n",
    "   ])\n",
    "\n",
    "full_pipeline2 = Pipeline(steps=[\n",
    "    \n",
    "   ('preprocessor',None),\n",
    "   ( 'norm',MinMaxScaler()),\n",
    "   ('classifier',RandomForestClassifier(n_estimators=500,max_depth=50,min_samples_split=10))\n",
    "   ])\n",
    "\n",
    "\n",
    "full_pipeline3 = Pipeline(steps=[\n",
    "   ('preprocessor',None),\n",
    "   ( 'norm',MinMaxScaler()),\n",
    "   ('classifier',KNeighborsClassifier(n_neighbors=11))\n",
    "   ])\n",
    "\n",
    "\n",
    "\n",
    "param_grid_processes= [\n",
    "    {},\n",
    "    \n",
    "    {\n",
    "     'preprocessor':[PolynomialFeatures()],   \n",
    "     'preprocessor__degree':[2,3,4] \n",
    "      },\n",
    "    {'preprocessor':[QuantileTransformer()]\n",
    "    },\n",
    "    {'preprocessor':[PowerTransformer()],\n",
    "   'preprocessor__method':['yeo-johnson']   \n",
    "}]\n",
    "    \n",
    "  "
   ]
  },
  {
   "cell_type": "markdown",
   "id": "785dec7e-e51a-4196-8f5b-4f9c1518caec",
   "metadata": {},
   "source": [
    "#  data image all"
   ]
  },
  {
   "cell_type": "markdown",
   "id": "e7ffa358-dad3-4a79-b123-9f6ca25c5ecb",
   "metadata": {},
   "source": [
    "###  train_test_split data"
   ]
  },
  {
   "cell_type": "code",
   "execution_count": null,
   "id": "840d56c0-f47c-4084-a229-cbcd798e6262",
   "metadata": {},
   "outputs": [],
   "source": [
    "data_image2=data_image.groupby(by=['classes']).sample(frac=0.005, random_state=42)\n",
    "print(data_image2.shape)\n",
    "\n",
    "x_data=data_image2[['r','g','b']]#,'image_classes'\n",
    "y_data=data_image2[['classes']]\n",
    "X_train, X_test, y_train, y_test = train_test_split(x_data, y_data, test_size=0.2, random_state=42)"
   ]
  },
  {
   "cell_type": "markdown",
   "id": "3c1e3c28-38b9-4591-b6e4-df6419c5f725",
   "metadata": {},
   "source": [
    "### examine necessary processes\n"
   ]
  },
  {
   "cell_type": "code",
   "execution_count": null,
   "id": "1a06e403-2973-4b3c-8b12-3cca19d81fea",
   "metadata": {},
   "outputs": [],
   "source": [
    "cv_results_df, param_grid_cv,best_params,best_score, grid_search=def_GridSearchCV(full_pipeline3 ,param_grid_processes,X_train,y_train)\n",
    "print(best_params,best_score)\n",
    "cv_results_df"
   ]
  },
  {
   "cell_type": "markdown",
   "id": "042cd06d-9f29-4ce1-9d35-f71c7a8b2598",
   "metadata": {},
   "source": [
    "###  rnn the models"
   ]
  },
  {
   "cell_type": "code",
   "execution_count": 195,
   "id": "b6c9c822-2f9f-4bf5-ad6e-21dbd2f55f27",
   "metadata": {},
   "outputs": [
    {
     "name": "stdout",
     "output_type": "stream",
     "text": [
      "Fitting 5 folds for each of 137 candidates, totalling 685 fits\n"
     ]
    },
    {
     "name": "stderr",
     "output_type": "stream",
     "text": [
      "C:\\Users\\user\\anaconda3\\lib\\site-packages\\sklearn\\utils\\validation.py:1143: DataConversionWarning: A column-vector y was passed when a 1d array was expected. Please change the shape of y to (n_samples, ), for example using ravel().\n",
      "  y = column_or_1d(y, warn=True)\n"
     ]
    },
    {
     "name": "stdout",
     "output_type": "stream",
     "text": [
      "{'classifier': SVC(C=10, gamma=0.0005), 'classifier__C': 10, 'classifier__gamma': 0.0005} 0.7272015655577299\n"
     ]
    }
   ],
   "source": [
    "cv_results_df, param_grid_cv,best_params,best_score, grid_search=def_GridSearchCV(full_pipeline ,param_grid,X_train,y_train)\n",
    "print(best_params,best_score)\n",
    "base_pramter=Summary_results_CVׁׂ(cv_results_df)\n",
    "\n",
    "predict_df,classification_report1,confusion_matrix1,multi_confusion_matrix1=base_model_predict(grid_search,X_train, y_train)\n",
    "\n",
    "\n",
    "\n",
    "classification_report_df, dict_matrix, confusion_matrix_df= base_model_summary(grid_search,classification_report1,multi_confusion_matrix1,confusion_matrix1)"
   ]
  },
  {
   "cell_type": "markdown",
   "id": "2d092994-3ef3-4a9a-a7c6-fbcee614340c",
   "metadata": {},
   "source": [
    "## predict and  Summary base_model "
   ]
  },
  {
   "cell_type": "code",
   "execution_count": 196,
   "id": "b6134258-cdc9-49a4-b445-071ff600b619",
   "metadata": {},
   "outputs": [
    {
     "data": {
      "text/html": [
       "<div>\n",
       "<style scoped>\n",
       "    .dataframe tbody tr th:only-of-type {\n",
       "        vertical-align: middle;\n",
       "    }\n",
       "\n",
       "    .dataframe tbody tr th {\n",
       "        vertical-align: top;\n",
       "    }\n",
       "\n",
       "    .dataframe thead th {\n",
       "        text-align: right;\n",
       "    }\n",
       "</style>\n",
       "<table border=\"1\" class=\"dataframe\">\n",
       "  <thead>\n",
       "    <tr style=\"text-align: right;\">\n",
       "      <th></th>\n",
       "      <th>precision</th>\n",
       "    </tr>\n",
       "  </thead>\n",
       "  <tbody>\n",
       "    <tr>\n",
       "      <th>Yellow Soil</th>\n",
       "      <td>0.927473</td>\n",
       "    </tr>\n",
       "    <tr>\n",
       "      <th>Laterite Soil</th>\n",
       "      <td>0.853933</td>\n",
       "    </tr>\n",
       "    <tr>\n",
       "      <th>macro avg</th>\n",
       "      <td>0.759768</td>\n",
       "    </tr>\n",
       "    <tr>\n",
       "      <th>weighted avg</th>\n",
       "      <td>0.757835</td>\n",
       "    </tr>\n",
       "    <tr>\n",
       "      <th>accuracy</th>\n",
       "      <td>0.757730</td>\n",
       "    </tr>\n",
       "    <tr>\n",
       "      <th>Black Soil</th>\n",
       "      <td>0.707143</td>\n",
       "    </tr>\n",
       "    <tr>\n",
       "      <th>Cinder Soil</th>\n",
       "      <td>0.690860</td>\n",
       "    </tr>\n",
       "    <tr>\n",
       "      <th>Peat Soil</th>\n",
       "      <td>0.619433</td>\n",
       "    </tr>\n",
       "  </tbody>\n",
       "</table>\n",
       "</div>"
      ],
      "text/plain": [
       "               precision\n",
       "Yellow Soil     0.927473\n",
       "Laterite Soil   0.853933\n",
       "macro avg       0.759768\n",
       "weighted avg    0.757835\n",
       "accuracy        0.757730\n",
       "Black Soil      0.707143\n",
       "Cinder Soil     0.690860\n",
       "Peat Soil       0.619433"
      ]
     },
     "execution_count": 196,
     "metadata": {},
     "output_type": "execute_result"
    }
   ],
   "source": [
    "classification_report_df\n",
    "#dict_matrix['Black Soil']\n",
    "#confusion_matrix_df"
   ]
  },
  {
   "cell_type": "code",
   "execution_count": null,
   "id": "8ed6738a-ae5c-48df-bc25-e888a9ffbf4b",
   "metadata": {},
   "outputs": [],
   "source": []
  },
  {
   "cell_type": "code",
   "execution_count": null,
   "id": "3a39c155-376b-4e74-83f5-a70ef1a0059f",
   "metadata": {},
   "outputs": [],
   "source": []
  },
  {
   "cell_type": "code",
   "execution_count": null,
   "id": "bfa4ed56-57e9-4cb1-98da-72dd212adb87",
   "metadata": {},
   "outputs": [],
   "source": []
  },
  {
   "cell_type": "markdown",
   "id": "83ed075d-81d3-4ae0-b1d7-b0c2d4d6dc55",
   "metadata": {},
   "source": [
    "# data_image_Selecting"
   ]
  },
  {
   "cell_type": "code",
   "execution_count": null,
   "id": "11130c7f-8e81-4f69-a5a5-bc465c351a6c",
   "metadata": {},
   "outputs": [],
   "source": [
    "\n",
    "data_image_Selecting2=data_image_Selecting.groupby(by=['classes']).sample(frac=0.05, random_state=42)\n",
    "print(data_image_Selecting2.shape)\n",
    "from sklearn.model_selection import train_test_split\n",
    "\n",
    "x_data=data_image_Selecting2[['r','g','b']]#,'image_classes'\n",
    "y_data=data_image_Selecting2[['classes']]\n",
    "X_train, X_test, y_train, y_test = train_test_split(x_data, y_data, test_size=0.2, random_state=42)\n",
    "\n",
    "\n",
    "\n",
    "cv_results_df, param_grid_cv,best_params,best_score, grid_search=def_GridSearchCV(full_pipeline ,param_grid,X_train,y_train)\n",
    "print(best_params,best_score)\n",
    "base_pramter=Summary_results_CVׁׂ(cv_results_df)\n",
    "#predict_df,classification_report1,confusion_matrix1,multi_confusion_matrix1=base_model_predict(grid_search,X_train, y_train)\n",
    "base_pramter"
   ]
  },
  {
   "cell_type": "markdown",
   "id": "b7109589-c30d-4ef6-86ae-3d5578ac42ec",
   "metadata": {},
   "source": [
    "# data_image_mean\n",
    " "
   ]
  },
  {
   "cell_type": "code",
   "execution_count": null,
   "id": "2f441176-d18b-45c5-94d0-498e1a9b02bc",
   "metadata": {},
   "outputs": [],
   "source": [
    "x_data=data_image_mean[['r','g','b']]#,'image_classes'\n",
    "y_data=data_image_mean[['classes']]\n",
    "X_train, X_test, y_train, y_test = train_test_split(x_data, y_data, test_size=0.2, random_state=42)\n",
    "\n",
    "cv_results_df, param_grid_cv,best_params,best_score, grid_search=def_GridSearchCV(full_pipeline ,param_grid,X_train,y_train)\n",
    "print(best_params,best_score)\n",
    "base_pramter=Summary_results_CVׁׂ(cv_results_df)\n",
    "#predict_df,classification_report1,confusion_matrix1,multi_confusion_matrix1=base_model_predict(grid_search,X_train, y_train)\n",
    "base_pramter"
   ]
  },
  {
   "cell_type": "code",
   "execution_count": null,
   "id": "91abdd99-7818-40c4-b4f6-a9cd7d382bfe",
   "metadata": {},
   "outputs": [],
   "source": []
  },
  {
   "cell_type": "code",
   "execution_count": null,
   "id": "d9487c4a-77c9-45c7-a2e5-d65422a41697",
   "metadata": {},
   "outputs": [],
   "source": []
  },
  {
   "cell_type": "code",
   "execution_count": null,
   "id": "50a6d71e-5796-457f-8c27-f190c7de007a",
   "metadata": {},
   "outputs": [],
   "source": []
  }
 ],
 "metadata": {
  "kernelspec": {
   "display_name": "Python 3 (ipykernel)",
   "language": "python",
   "name": "python3"
  },
  "language_info": {
   "codemirror_mode": {
    "name": "ipython",
    "version": 3
   },
   "file_extension": ".py",
   "mimetype": "text/x-python",
   "name": "python",
   "nbconvert_exporter": "python",
   "pygments_lexer": "ipython3",
   "version": "3.9.13"
  }
 },
 "nbformat": 4,
 "nbformat_minor": 5
}
